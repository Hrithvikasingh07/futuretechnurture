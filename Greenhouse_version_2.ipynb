{
  "nbformat": 4,
  "nbformat_minor": 0,
  "metadata": {
    "colab": {
      "provenance": []
    },
    "kernelspec": {
      "name": "python3",
      "display_name": "Python 3"
    },
    "language_info": {
      "name": "python"
    }
  },
  "cells": [
    {
      "cell_type": "markdown",
      "source": [
        "# New Section"
      ],
      "metadata": {
        "id": "8r-3xVWjinVn"
      }
    },
    {
      "cell_type": "code",
      "execution_count": null,
      "metadata": {
        "id": "ID9WTKb3X4BB",
        "colab": {
          "base_uri": "https://localhost:8080/"
        },
        "outputId": "2a20a3e6-99ca-4077-9bf0-35eb99530974"
      },
      "outputs": [
        {
          "output_type": "stream",
          "name": "stdout",
          "text": [
            "Mounted at /content/gdrive\n"
          ]
        }
      ],
      "source": [
        "import warnings\n",
        "warnings.filterwarnings('ignore')\n",
        "import scipy.stats as stats\n",
        "import os\n",
        "import numpy as np\n",
        "import pandas as pd\n",
        "\n",
        "from matplotlib import pyplot as plt\n",
        "%matplotlib inline\n",
        "\n",
        "from google.colab import drive\n",
        "drive.mount(\"/content/gdrive\")\n"
      ]
    },
    {
      "cell_type": "code",
      "source": [
        "# import pandas as pd\n",
        "weather_df = pd.read_csv('/content/gdrive/My Drive/GHData/GH1TH1-Center_952773_data.csv')\n",
        "\n",
        "# import the Pandas library\n",
        "import pandas as pd"
      ],
      "metadata": {
        "id": "SoNwpRx2sM5V"
      },
      "execution_count": null,
      "outputs": []
    },
    {
      "cell_type": "code",
      "source": [
        "#cleaning the data\n",
        "weather_df.drop_duplicates(inplace=True)\n",
        "weather_df.dropna(inplace=True)"
      ],
      "metadata": {
        "id": "bhWTQsIMarxb"
      },
      "execution_count": null,
      "outputs": []
    },
    {
      "cell_type": "code",
      "source": [
        "weather_df.columns\n",
        "weather_df.head(15)"
      ],
      "metadata": {
        "colab": {
          "base_uri": "https://localhost:8080/",
          "height": 520
        },
        "id": "hV5Zm_k1ATva",
        "outputId": "f3044491-c716-4cde-bcc5-26ba945ab290"
      },
      "execution_count": null,
      "outputs": [
        {
          "output_type": "execute_result",
          "data": {
            "text/plain": [
              "                    Time  Temperature   Humidity\n",
              "0   07/05/24 07:54:00 AM    30.790000  84.520500\n",
              "1   07/05/24 07:53:00 AM    30.700667  85.057667\n",
              "2   07/05/24 07:52:00 AM    30.608167  85.221833\n",
              "3   07/05/24 07:51:00 AM    30.546833  85.189167\n",
              "4   07/05/24 07:50:00 AM    30.402000  85.344167\n",
              "5   07/05/24 07:49:00 AM    30.342333  85.295500\n",
              "6   07/05/24 07:48:00 AM    30.286000  85.306333\n",
              "7   07/05/24 07:47:00 AM    30.234500  85.628000\n",
              "8   07/05/24 07:46:00 AM    30.198667  85.987000\n",
              "9   07/05/24 07:45:00 AM    30.234333  86.329667\n",
              "10  07/05/24 07:44:00 AM    30.180333  86.271833\n",
              "11  07/05/24 07:43:00 AM    30.156667  86.265500\n",
              "12  07/05/24 07:42:00 AM    30.173000  86.159667\n",
              "13  07/05/24 07:41:00 AM    30.105333  85.862833\n",
              "14  07/05/24 07:40:00 AM    30.059167  85.603333"
            ],
            "text/html": [
              "\n",
              "  <div id=\"df-b6260ad0-222d-425a-a59c-63b56ab17325\" class=\"colab-df-container\">\n",
              "    <div>\n",
              "<style scoped>\n",
              "    .dataframe tbody tr th:only-of-type {\n",
              "        vertical-align: middle;\n",
              "    }\n",
              "\n",
              "    .dataframe tbody tr th {\n",
              "        vertical-align: top;\n",
              "    }\n",
              "\n",
              "    .dataframe thead th {\n",
              "        text-align: right;\n",
              "    }\n",
              "</style>\n",
              "<table border=\"1\" class=\"dataframe\">\n",
              "  <thead>\n",
              "    <tr style=\"text-align: right;\">\n",
              "      <th></th>\n",
              "      <th>Time</th>\n",
              "      <th>Temperature</th>\n",
              "      <th>Humidity</th>\n",
              "    </tr>\n",
              "  </thead>\n",
              "  <tbody>\n",
              "    <tr>\n",
              "      <th>0</th>\n",
              "      <td>07/05/24 07:54:00 AM</td>\n",
              "      <td>30.790000</td>\n",
              "      <td>84.520500</td>\n",
              "    </tr>\n",
              "    <tr>\n",
              "      <th>1</th>\n",
              "      <td>07/05/24 07:53:00 AM</td>\n",
              "      <td>30.700667</td>\n",
              "      <td>85.057667</td>\n",
              "    </tr>\n",
              "    <tr>\n",
              "      <th>2</th>\n",
              "      <td>07/05/24 07:52:00 AM</td>\n",
              "      <td>30.608167</td>\n",
              "      <td>85.221833</td>\n",
              "    </tr>\n",
              "    <tr>\n",
              "      <th>3</th>\n",
              "      <td>07/05/24 07:51:00 AM</td>\n",
              "      <td>30.546833</td>\n",
              "      <td>85.189167</td>\n",
              "    </tr>\n",
              "    <tr>\n",
              "      <th>4</th>\n",
              "      <td>07/05/24 07:50:00 AM</td>\n",
              "      <td>30.402000</td>\n",
              "      <td>85.344167</td>\n",
              "    </tr>\n",
              "    <tr>\n",
              "      <th>5</th>\n",
              "      <td>07/05/24 07:49:00 AM</td>\n",
              "      <td>30.342333</td>\n",
              "      <td>85.295500</td>\n",
              "    </tr>\n",
              "    <tr>\n",
              "      <th>6</th>\n",
              "      <td>07/05/24 07:48:00 AM</td>\n",
              "      <td>30.286000</td>\n",
              "      <td>85.306333</td>\n",
              "    </tr>\n",
              "    <tr>\n",
              "      <th>7</th>\n",
              "      <td>07/05/24 07:47:00 AM</td>\n",
              "      <td>30.234500</td>\n",
              "      <td>85.628000</td>\n",
              "    </tr>\n",
              "    <tr>\n",
              "      <th>8</th>\n",
              "      <td>07/05/24 07:46:00 AM</td>\n",
              "      <td>30.198667</td>\n",
              "      <td>85.987000</td>\n",
              "    </tr>\n",
              "    <tr>\n",
              "      <th>9</th>\n",
              "      <td>07/05/24 07:45:00 AM</td>\n",
              "      <td>30.234333</td>\n",
              "      <td>86.329667</td>\n",
              "    </tr>\n",
              "    <tr>\n",
              "      <th>10</th>\n",
              "      <td>07/05/24 07:44:00 AM</td>\n",
              "      <td>30.180333</td>\n",
              "      <td>86.271833</td>\n",
              "    </tr>\n",
              "    <tr>\n",
              "      <th>11</th>\n",
              "      <td>07/05/24 07:43:00 AM</td>\n",
              "      <td>30.156667</td>\n",
              "      <td>86.265500</td>\n",
              "    </tr>\n",
              "    <tr>\n",
              "      <th>12</th>\n",
              "      <td>07/05/24 07:42:00 AM</td>\n",
              "      <td>30.173000</td>\n",
              "      <td>86.159667</td>\n",
              "    </tr>\n",
              "    <tr>\n",
              "      <th>13</th>\n",
              "      <td>07/05/24 07:41:00 AM</td>\n",
              "      <td>30.105333</td>\n",
              "      <td>85.862833</td>\n",
              "    </tr>\n",
              "    <tr>\n",
              "      <th>14</th>\n",
              "      <td>07/05/24 07:40:00 AM</td>\n",
              "      <td>30.059167</td>\n",
              "      <td>85.603333</td>\n",
              "    </tr>\n",
              "  </tbody>\n",
              "</table>\n",
              "</div>\n",
              "    <div class=\"colab-df-buttons\">\n",
              "\n",
              "  <div class=\"colab-df-container\">\n",
              "    <button class=\"colab-df-convert\" onclick=\"convertToInteractive('df-b6260ad0-222d-425a-a59c-63b56ab17325')\"\n",
              "            title=\"Convert this dataframe to an interactive table.\"\n",
              "            style=\"display:none;\">\n",
              "\n",
              "  <svg xmlns=\"http://www.w3.org/2000/svg\" height=\"24px\" viewBox=\"0 -960 960 960\">\n",
              "    <path d=\"M120-120v-720h720v720H120Zm60-500h600v-160H180v160Zm220 220h160v-160H400v160Zm0 220h160v-160H400v160ZM180-400h160v-160H180v160Zm440 0h160v-160H620v160ZM180-180h160v-160H180v160Zm440 0h160v-160H620v160Z\"/>\n",
              "  </svg>\n",
              "    </button>\n",
              "\n",
              "  <style>\n",
              "    .colab-df-container {\n",
              "      display:flex;\n",
              "      gap: 12px;\n",
              "    }\n",
              "\n",
              "    .colab-df-convert {\n",
              "      background-color: #E8F0FE;\n",
              "      border: none;\n",
              "      border-radius: 50%;\n",
              "      cursor: pointer;\n",
              "      display: none;\n",
              "      fill: #1967D2;\n",
              "      height: 32px;\n",
              "      padding: 0 0 0 0;\n",
              "      width: 32px;\n",
              "    }\n",
              "\n",
              "    .colab-df-convert:hover {\n",
              "      background-color: #E2EBFA;\n",
              "      box-shadow: 0px 1px 2px rgba(60, 64, 67, 0.3), 0px 1px 3px 1px rgba(60, 64, 67, 0.15);\n",
              "      fill: #174EA6;\n",
              "    }\n",
              "\n",
              "    .colab-df-buttons div {\n",
              "      margin-bottom: 4px;\n",
              "    }\n",
              "\n",
              "    [theme=dark] .colab-df-convert {\n",
              "      background-color: #3B4455;\n",
              "      fill: #D2E3FC;\n",
              "    }\n",
              "\n",
              "    [theme=dark] .colab-df-convert:hover {\n",
              "      background-color: #434B5C;\n",
              "      box-shadow: 0px 1px 3px 1px rgba(0, 0, 0, 0.15);\n",
              "      filter: drop-shadow(0px 1px 2px rgba(0, 0, 0, 0.3));\n",
              "      fill: #FFFFFF;\n",
              "    }\n",
              "  </style>\n",
              "\n",
              "    <script>\n",
              "      const buttonEl =\n",
              "        document.querySelector('#df-b6260ad0-222d-425a-a59c-63b56ab17325 button.colab-df-convert');\n",
              "      buttonEl.style.display =\n",
              "        google.colab.kernel.accessAllowed ? 'block' : 'none';\n",
              "\n",
              "      async function convertToInteractive(key) {\n",
              "        const element = document.querySelector('#df-b6260ad0-222d-425a-a59c-63b56ab17325');\n",
              "        const dataTable =\n",
              "          await google.colab.kernel.invokeFunction('convertToInteractive',\n",
              "                                                    [key], {});\n",
              "        if (!dataTable) return;\n",
              "\n",
              "        const docLinkHtml = 'Like what you see? Visit the ' +\n",
              "          '<a target=\"_blank\" href=https://colab.research.google.com/notebooks/data_table.ipynb>data table notebook</a>'\n",
              "          + ' to learn more about interactive tables.';\n",
              "        element.innerHTML = '';\n",
              "        dataTable['output_type'] = 'display_data';\n",
              "        await google.colab.output.renderOutput(dataTable, element);\n",
              "        const docLink = document.createElement('div');\n",
              "        docLink.innerHTML = docLinkHtml;\n",
              "        element.appendChild(docLink);\n",
              "      }\n",
              "    </script>\n",
              "  </div>\n",
              "\n",
              "\n",
              "<div id=\"df-51da51b1-fda8-46df-af45-0bac631aeb2b\">\n",
              "  <button class=\"colab-df-quickchart\" onclick=\"quickchart('df-51da51b1-fda8-46df-af45-0bac631aeb2b')\"\n",
              "            title=\"Suggest charts\"\n",
              "            style=\"display:none;\">\n",
              "\n",
              "<svg xmlns=\"http://www.w3.org/2000/svg\" height=\"24px\"viewBox=\"0 0 24 24\"\n",
              "     width=\"24px\">\n",
              "    <g>\n",
              "        <path d=\"M19 3H5c-1.1 0-2 .9-2 2v14c0 1.1.9 2 2 2h14c1.1 0 2-.9 2-2V5c0-1.1-.9-2-2-2zM9 17H7v-7h2v7zm4 0h-2V7h2v10zm4 0h-2v-4h2v4z\"/>\n",
              "    </g>\n",
              "</svg>\n",
              "  </button>\n",
              "\n",
              "<style>\n",
              "  .colab-df-quickchart {\n",
              "      --bg-color: #E8F0FE;\n",
              "      --fill-color: #1967D2;\n",
              "      --hover-bg-color: #E2EBFA;\n",
              "      --hover-fill-color: #174EA6;\n",
              "      --disabled-fill-color: #AAA;\n",
              "      --disabled-bg-color: #DDD;\n",
              "  }\n",
              "\n",
              "  [theme=dark] .colab-df-quickchart {\n",
              "      --bg-color: #3B4455;\n",
              "      --fill-color: #D2E3FC;\n",
              "      --hover-bg-color: #434B5C;\n",
              "      --hover-fill-color: #FFFFFF;\n",
              "      --disabled-bg-color: #3B4455;\n",
              "      --disabled-fill-color: #666;\n",
              "  }\n",
              "\n",
              "  .colab-df-quickchart {\n",
              "    background-color: var(--bg-color);\n",
              "    border: none;\n",
              "    border-radius: 50%;\n",
              "    cursor: pointer;\n",
              "    display: none;\n",
              "    fill: var(--fill-color);\n",
              "    height: 32px;\n",
              "    padding: 0;\n",
              "    width: 32px;\n",
              "  }\n",
              "\n",
              "  .colab-df-quickchart:hover {\n",
              "    background-color: var(--hover-bg-color);\n",
              "    box-shadow: 0 1px 2px rgba(60, 64, 67, 0.3), 0 1px 3px 1px rgba(60, 64, 67, 0.15);\n",
              "    fill: var(--button-hover-fill-color);\n",
              "  }\n",
              "\n",
              "  .colab-df-quickchart-complete:disabled,\n",
              "  .colab-df-quickchart-complete:disabled:hover {\n",
              "    background-color: var(--disabled-bg-color);\n",
              "    fill: var(--disabled-fill-color);\n",
              "    box-shadow: none;\n",
              "  }\n",
              "\n",
              "  .colab-df-spinner {\n",
              "    border: 2px solid var(--fill-color);\n",
              "    border-color: transparent;\n",
              "    border-bottom-color: var(--fill-color);\n",
              "    animation:\n",
              "      spin 1s steps(1) infinite;\n",
              "  }\n",
              "\n",
              "  @keyframes spin {\n",
              "    0% {\n",
              "      border-color: transparent;\n",
              "      border-bottom-color: var(--fill-color);\n",
              "      border-left-color: var(--fill-color);\n",
              "    }\n",
              "    20% {\n",
              "      border-color: transparent;\n",
              "      border-left-color: var(--fill-color);\n",
              "      border-top-color: var(--fill-color);\n",
              "    }\n",
              "    30% {\n",
              "      border-color: transparent;\n",
              "      border-left-color: var(--fill-color);\n",
              "      border-top-color: var(--fill-color);\n",
              "      border-right-color: var(--fill-color);\n",
              "    }\n",
              "    40% {\n",
              "      border-color: transparent;\n",
              "      border-right-color: var(--fill-color);\n",
              "      border-top-color: var(--fill-color);\n",
              "    }\n",
              "    60% {\n",
              "      border-color: transparent;\n",
              "      border-right-color: var(--fill-color);\n",
              "    }\n",
              "    80% {\n",
              "      border-color: transparent;\n",
              "      border-right-color: var(--fill-color);\n",
              "      border-bottom-color: var(--fill-color);\n",
              "    }\n",
              "    90% {\n",
              "      border-color: transparent;\n",
              "      border-bottom-color: var(--fill-color);\n",
              "    }\n",
              "  }\n",
              "</style>\n",
              "\n",
              "  <script>\n",
              "    async function quickchart(key) {\n",
              "      const quickchartButtonEl =\n",
              "        document.querySelector('#' + key + ' button');\n",
              "      quickchartButtonEl.disabled = true;  // To prevent multiple clicks.\n",
              "      quickchartButtonEl.classList.add('colab-df-spinner');\n",
              "      try {\n",
              "        const charts = await google.colab.kernel.invokeFunction(\n",
              "            'suggestCharts', [key], {});\n",
              "      } catch (error) {\n",
              "        console.error('Error during call to suggestCharts:', error);\n",
              "      }\n",
              "      quickchartButtonEl.classList.remove('colab-df-spinner');\n",
              "      quickchartButtonEl.classList.add('colab-df-quickchart-complete');\n",
              "    }\n",
              "    (() => {\n",
              "      let quickchartButtonEl =\n",
              "        document.querySelector('#df-51da51b1-fda8-46df-af45-0bac631aeb2b button');\n",
              "      quickchartButtonEl.style.display =\n",
              "        google.colab.kernel.accessAllowed ? 'block' : 'none';\n",
              "    })();\n",
              "  </script>\n",
              "</div>\n",
              "\n",
              "    </div>\n",
              "  </div>\n"
            ],
            "application/vnd.google.colaboratory.intrinsic+json": {
              "type": "dataframe",
              "variable_name": "weather_df",
              "summary": "{\n  \"name\": \"weather_df\",\n  \"rows\": 1440,\n  \"fields\": [\n    {\n      \"column\": \"Time\",\n      \"properties\": {\n        \"dtype\": \"object\",\n        \"num_unique_values\": 1440,\n        \"samples\": [\n          \"07/05/24 05:06:00 AM\",\n          \"07/04/24 09:49:00 PM\",\n          \"07/04/24 10:46:00 PM\"\n        ],\n        \"semantic_type\": \"\",\n        \"description\": \"\"\n      }\n    },\n    {\n      \"column\": \"Temperature\",\n      \"properties\": {\n        \"dtype\": \"number\",\n        \"std\": 2.6843251984413934,\n        \"min\": 27.7625,\n        \"max\": 39.03083333333333,\n        \"num_unique_values\": 1354,\n        \"samples\": [\n          30.149666666666672,\n          35.716166666666666,\n          34.2655\n        ],\n        \"semantic_type\": \"\",\n        \"description\": \"\"\n      }\n    },\n    {\n      \"column\": \"Humidity\",\n      \"properties\": {\n        \"dtype\": \"number\",\n        \"std\": 8.643794531997806,\n        \"min\": 57.96833333333333,\n        \"max\": 92.515,\n        \"num_unique_values\": 1428,\n        \"samples\": [\n          92.251,\n          81.23766666666666,\n          91.24266666666666\n        ],\n        \"semantic_type\": \"\",\n        \"description\": \"\"\n      }\n    }\n  ]\n}"
            }
          },
          "metadata": {},
          "execution_count": 5
        }
      ]
    },
    {
      "cell_type": "code",
      "source": [
        "x=weather_df['Temperature']\n",
        "y=weather_df['Humidity']\n",
        "plt.scatter(x,y)\n",
        "plt.show()\n"
      ],
      "metadata": {
        "id": "b4A3yJKGBYo_",
        "colab": {
          "base_uri": "https://localhost:8080/",
          "height": 430
        },
        "outputId": "ddae95bd-04e7-49b3-82ae-b479fd705d15"
      },
      "execution_count": null,
      "outputs": [
        {
          "output_type": "display_data",
          "data": {
            "text/plain": [
              "<Figure size 640x480 with 1 Axes>"
            ],
            "image/png": "[encoded data removed]"
          },
          "metadata": {}
        }
      ]
    },
    {
      "cell_type": "code",
      "source": [
        "slope, intercept, r, p, std_err = stats.linregress(x, y)\n",
        "\n",
        "def myfunc(x):\n",
        "  return slope * x + intercept\n",
        "\n",
        "mymodel = list(map(myfunc, x))\n",
        "\n",
        "plt.scatter(x, y)\n",
        "plt.plot(x, mymodel)\n",
        "plt.show()"
      ],
      "metadata": {
        "colab": {
          "base_uri": "https://localhost:8080/",
          "height": 430
        },
        "id": "cARoZy0Qjwee",
        "outputId": "5920b541-6979-42a5-b7e5-ed03df2e41ac"
      },
      "execution_count": null,
      "outputs": [
        {
          "output_type": "display_data",
          "data": {
            "text/plain": [
              "<Figure size 640x480 with 1 Axes>"
            ],
            "image/png": "[encoded data removed]"
          },
          "metadata": {}
        }
      ]
    },
    {
      "cell_type": "code",
      "source": [
        "slope, intercept, r, p, std_err = stats.linregress(weather_df['Temperature'],weather_df['Humidity']) # Use square brackets to access columns\n",
        "\n",
        "print(slope)\n",
        "print(intercept)\n",
        "print(r)\n",
        "print(p)\n",
        "print(std_err)\n"
      ],
      "metadata": {
        "colab": {
          "base_uri": "https://localhost:8080/"
        },
        "id": "uWfMcTJFfKNG",
        "outputId": "9a8558e4-8ba0-43cd-fadb-bb2e8b1d52f8"
      },
      "execution_count": null,
      "outputs": [
        {
          "output_type": "stream",
          "name": "stdout",
          "text": [
            "-3.168299257333297\n",
            "179.80151895015086\n",
            "-0.9839134307484811\n",
            "0.0\n",
            "0.015169907717302816\n"
          ]
        }
      ]
    },
    {
      "source": [
        "x_value = 30\n",
        "predicted_humidity = myfunc(x_value)\n",
        "print(f\"Predicted humidity for temperature {x_value} is {predicted_humidity}\")"
      ],
      "cell_type": "code",
      "metadata": {
        "colab": {
          "base_uri": "https://localhost:8080/"
        },
        "id": "BMQht9PylvRe",
        "outputId": "e22d7d5b-86c9-4bb7-c145-629c476479ee"
      },
      "execution_count": null,
      "outputs": [
        {
          "output_type": "stream",
          "name": "stdout",
          "text": [
            "Predicted humidity for temperature 30 is 84.75254123015195\n"
          ]
        }
      ]
    },
    {
      "cell_type": "code",
      "source": [
        "x_value = 32\n",
        "predicted_humidity = myfunc(x_value)\n",
        "print(f\"Predicted humidity for temperature {x_value} is {predicted_humidity}\")"
      ],
      "metadata": {
        "colab": {
          "base_uri": "https://localhost:8080/"
        },
        "id": "pBLlrDy0ELer",
        "outputId": "e2edc152-3da6-4e4d-be24-081173a48d18"
      },
      "execution_count": null,
      "outputs": [
        {
          "output_type": "stream",
          "name": "stdout",
          "text": [
            "Predicted humidity for temperature 32 is 78.41594271548536\n"
          ]
        }
      ]
    },
    {
      "cell_type": "code",
      "source": [
        "x_value = 34\n",
        "predicted_humidity = myfunc(x_value)\n",
        "print(f\"Predicted humidity for temperature {x_value} is {predicted_humidity}\")"
      ],
      "metadata": {
        "colab": {
          "base_uri": "https://localhost:8080/"
        },
        "id": "Ux8ZchkimnRV",
        "outputId": "03cc7491-726a-4755-ca68-f4e7de21620b"
      },
      "execution_count": null,
      "outputs": [
        {
          "output_type": "stream",
          "name": "stdout",
          "text": [
            "Predicted humidity for temperature 34 is 72.07934420081877\n"
          ]
        }
      ]
    },
    {
      "cell_type": "code",
      "source": [
        "x_value = 36\n",
        "predicted_humidity = myfunc(x_value)\n",
        "print(f\"Predicted humidity for temperature {x_value} is {predicted_humidity}\")"
      ],
      "metadata": {
        "colab": {
          "base_uri": "https://localhost:8080/"
        },
        "id": "HPP8wnjCmpvp",
        "outputId": "af0ed25e-61c1-4868-e7ba-dc5b37de9c38"
      },
      "execution_count": null,
      "outputs": [
        {
          "output_type": "stream",
          "name": "stdout",
          "text": [
            "Predicted humidity for temperature 36 is 65.74274568615218\n"
          ]
        }
      ]
    },
    {
      "cell_type": "code",
      "source": [
        "mymodel = np.poly1d(np.polyfit(x, y, 3))\n",
        "\n",
        "myline = np.linspace(min(x), max(x))\n",
        "\n",
        "plt.scatter(x, y)\n",
        "plt.plot(myline, mymodel(myline))\n",
        "plt.show()"
      ],
      "metadata": {
        "colab": {
          "base_uri": "https://localhost:8080/",
          "height": 430
        },
        "id": "_a-hqFlb2jhB",
        "outputId": "420e09a3-efd8-4ddb-8908-97f2def9254b"
      },
      "execution_count": null,
      "outputs": [
        {
          "output_type": "display_data",
          "data": {
            "text/plain": [
              "<Figure size 640x480 with 1 Axes>"
            ],
            "image/png": "[encoded data removed]"
          },
          "metadata": {}
        }
      ]
    },
    {
      "source": [
        "x = weather_df['Temperature']\n",
        "y = weather_df['Humidity']\n",
        "mymodel = np.poly1d(np.polyfit(x, y, 3))\n",
        "\n",
        "\n",
        "new_temperatures = [30]\n",
        "\n",
        "predicted_humidities = mymodel(new_temperatures)\n",
        "\n",
        "for temp, humidity in zip(new_temperatures, predicted_humidities):\n",
        "    print(f\"Predicted humidity for temperature {temp} is {humidity}\")"
      ],
      "cell_type": "code",
      "metadata": {
        "colab": {
          "base_uri": "https://localhost:8080/"
        },
        "id": "cX8qeg1F5gT6",
        "outputId": "1d71d27b-b70f-4606-c110-37e285f9eddf"
      },
      "execution_count": null,
      "outputs": [
        {
          "output_type": "stream",
          "name": "stdout",
          "text": [
            "Predicted humidity for temperature 30 is 84.24130251214126\n"
          ]
        }
      ]
    },
    {
      "source": [
        "x = weather_df['Temperature']\n",
        "y = weather_df['Humidity']\n",
        "mymodel = np.poly1d(np.polyfit(x, y, 3))\n",
        "\n",
        "\n",
        "new_temperatures = [32]\n",
        "\n",
        "predicted_humidities = mymodel(new_temperatures)\n",
        "\n",
        "for temp, humidity in zip(new_temperatures, predicted_humidities):\n",
        "    print(f\"Predicted humidity for temperature {temp} is {humidity}\")"
      ],
      "cell_type": "code",
      "metadata": {
        "colab": {
          "base_uri": "https://localhost:8080/"
        },
        "outputId": "10a6c9d3-2cd1-4eb6-d830-6a608627942f",
        "id": "R9Ht_l9954aa"
      },
      "execution_count": null,
      "outputs": [
        {
          "output_type": "stream",
          "name": "stdout",
          "text": [
            "Predicted humidity for temperature 32 is 77.47090033298167\n"
          ]
        }
      ]
    },
    {
      "source": [
        "x = weather_df['Temperature']\n",
        "y = weather_df['Humidity']\n",
        "mymodel = np.poly1d(np.polyfit(x, y, 3))\n",
        "\n",
        "\n",
        "new_temperatures = [34]\n",
        "\n",
        "predicted_humidities = mymodel(new_temperatures)\n",
        "\n",
        "for temp, humidity in zip(new_temperatures, predicted_humidities):\n",
        "    print(f\"Predicted humidity for temperature {temp} is {humidity}\")"
      ],
      "cell_type": "code",
      "metadata": {
        "colab": {
          "base_uri": "https://localhost:8080/"
        },
        "outputId": "be63d5a6-ebc6-4825-bc86-fa00d38decbd",
        "id": "YEfRC5Rj5-bn"
      },
      "execution_count": null,
      "outputs": [
        {
          "output_type": "stream",
          "name": "stdout",
          "text": [
            "Predicted humidity for temperature 34 is 71.41510832351884\n"
          ]
        }
      ]
    },
    {
      "source": [
        "x = weather_df['Temperature']\n",
        "y = weather_df['Humidity']\n",
        "mymodel = np.poly1d(np.polyfit(x, y, 3))\n",
        "\n",
        "\n",
        "new_temperatures = [36]\n",
        "\n",
        "predicted_humidities = mymodel(new_temperatures)\n",
        "\n",
        "for temp, humidity in zip(new_temperatures, predicted_humidities):\n",
        "    print(f\"Predicted humidity for temperature {temp} is {humidity}\")"
      ],
      "cell_type": "code",
      "metadata": {
        "colab": {
          "base_uri": "https://localhost:8080/"
        },
        "outputId": "96f2e74f-e6bb-4ccd-f6ea-26daa90296f2",
        "id": "djwn1G5C6BQX"
      },
      "execution_count": null,
      "outputs": [
        {
          "output_type": "stream",
          "name": "stdout",
          "text": [
            "Predicted humidity for temperature 36 is 66.14122747798882\n"
          ]
        }
      ]
    }
  ]
}